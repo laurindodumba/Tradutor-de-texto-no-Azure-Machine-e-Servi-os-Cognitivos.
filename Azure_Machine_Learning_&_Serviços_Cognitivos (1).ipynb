{
  "nbformat": 4,
  "nbformat_minor": 0,
  "metadata": {
    "colab": {
      "name": "Azure Machine Learning  & Serviços Cognitivos.ipynb",
      "provenance": []
    },
    "kernelspec": {
      "name": "python3",
      "display_name": "Python 3"
    },
    "language_info": {
      "name": "python"
    }
  },
  "cells": [
    {
      "cell_type": "markdown",
      "source": [
        "# Tradução"
      ],
      "metadata": {
        "id": "6IrvNxJwkUR3"
      }
    },
    {
      "cell_type": "code",
      "source": [
        "base_url = 'https://mldumba.cognitiveservices.azure.com/' #Indicação do Ponto de extremidade\n",
        "key = '61bfa5374703451688fe3b3cd5a4df17' #Chave primaria "
      ],
      "metadata": {
        "id": "DBqcQ2kIkYnY"
      },
      "execution_count": 100,
      "outputs": []
    },
    {
      "cell_type": "markdown",
      "source": [
        "#Estrutura para traduzir o texto"
      ],
      "metadata": {
        "id": "ZmZgPow25L7R"
      }
    },
    {
      "cell_type": "code",
      "source": [
        "import urllib, urllib.parse, urllib.error, urllib.request, json, http.client #Bibliotecas para ler a url\n",
        "headers = {\n",
        "    'Content-Type':'application/json',  #Inicio da estrutura para traduzir\n",
        "    'Ocp-Apim-Subscription-Key':key,\n",
        "    'Ocp-Apim-Subscription-Region':'eastus'\n",
        "}\n",
        "\n",
        "body = [\n",
        "  {\n",
        "      'Text':'Hola mundo',\n",
        "  }\n",
        "\n",
        "]\n",
        "params = urllib.parse.urlencode({\n",
        "    'api-version':'3.0',\n",
        "    'to':'de'\n",
        "})\n",
        "print(params) #Fim da estrutura"
      ],
      "metadata": {
        "colab": {
          "base_uri": "https://localhost:8080/"
        },
        "id": "vlLtBAYnmlo3",
        "outputId": "9e008842-81d5-4ab7-a5b7-79f63c1a91e9"
      },
      "execution_count": 101,
      "outputs": [
        {
          "output_type": "stream",
          "name": "stdout",
          "text": [
            "api-version=3.0&to=de\n"
          ]
        }
      ]
    },
    {
      "cell_type": "markdown",
      "source": [
        "#Parametrização do sistema"
      ],
      "metadata": {
        "id": "QEuZzxM95f64"
      }
    },
    {
      "cell_type": "code",
      "source": [
        "try:\n",
        "  conn = http.client.HTTPSConnection(base_url)\n",
        "  conn.request('POST', '/translate?%s&to=it&to=en' % params, str(body).encode('UTF-8'), headers)\n",
        "  response = conn.getresponse()\n",
        "  jsonData = response.read().decode('UTF-8')\n",
        "  data = json.loads(Json)\n",
        "  print(data)\n",
        "  conn.close()\n",
        "except Exception as ex:\n",
        "  print(ex)"
      ],
      "metadata": {
        "colab": {
          "base_uri": "https://localhost:8080/"
        },
        "id": "2qmN9fD3sQ2u",
        "outputId": "044bfef2-ce86-4447-c370-ed5511b4ec32"
      },
      "execution_count": 103,
      "outputs": [
        {
          "output_type": "stream",
          "name": "stdout",
          "text": [
            "nonnumeric port: '//mldumba.cognitiveservices.azure.com/'\n"
          ]
        }
      ]
    },
    {
      "cell_type": "code",
      "source": [
        ""
      ],
      "metadata": {
        "id": "991rcO_-sQxe"
      },
      "execution_count": null,
      "outputs": []
    }
  ]
}